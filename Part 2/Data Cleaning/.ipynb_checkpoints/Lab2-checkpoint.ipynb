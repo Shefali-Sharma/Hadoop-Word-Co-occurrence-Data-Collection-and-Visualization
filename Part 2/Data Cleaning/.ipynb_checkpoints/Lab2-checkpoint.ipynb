{
 "cells": [
  {
   "cell_type": "markdown",
   "metadata": {},
   "source": [
    "Lab 2: \n",
    "#Priya Murthy - 50248887\n",
    "#Shefali Sharma - 50247677"
   ]
  },
  {
   "cell_type": "code",
   "execution_count": 1,
   "metadata": {
    "collapsed": true
   },
   "outputs": [],
   "source": [
    "import re\n",
    "from urllib import request\n",
    "import urllib.request\n",
    "from bs4 import BeautifulSoup\n",
    "from lxml.html.clean import Cleaner\n",
    "from nltk import word_tokenize\n",
    "from nltk.corpus import stopwords\n",
    "\n",
    "\n",
    "def url_parser(url):\n",
    "    #print('Im here')\n",
    "    from bs4 import BeautifulSoup\n",
    "    import urllib.request \n",
    "    response = urllib.request.urlopen(url) \n",
    "    html = response.read()\n",
    "    soup = BeautifulSoup(html,\"html5lib\")\n",
    "    text = soup.findAll('p')\n",
    "    #print(text)\n",
    "    article_text = ''\n",
    "    for element in text:\n",
    "        article_text += '\\n' + ''.join(element.findAll(text = True))\n",
    "    new_str = re.sub('[^a-zA-Z0-9\\n]', ' ', str(article_text))\n",
    "    #print(new_str)\n",
    "    new_str = new_str.lower()\n",
    "    stop_words = set(stopwords.words('english'))\n",
    "    words = new_str.split()\n",
    "    for r in words:\n",
    "        if not r in stop_words:\n",
    "            #print(\" \"+r)\n",
    "            #appendFile = open('trump_women_accuse.txt','a')\n",
    "            #appendFile = open('cambridge_analytica.txt','a')\n",
    "            appendFile = open('zuckerberg.txt','a')\n",
    "            appendFile.write(\" \"+r)\n",
    "            appendFile.close()\n",
    "            "
   ]
  },
  {
   "cell_type": "code",
   "execution_count": 2,
   "metadata": {
    "collapsed": true
   },
   "outputs": [],
   "source": [
    "import csv\n",
    "\n",
    "def parse_articles(articles):\n",
    "    '''\n",
    "    This function takes in a response to the NYT api and parses\n",
    "    the articles into a list of dictionaries\n",
    "    '''\n",
    "    news = []\n",
    "    download_dir = \"zuckerberg.csv\"\n",
    "    csvfile = open(download_dir, \"w\") \n",
    "    newswriter = csv.writer(csvfile)\n",
    "    newswriter.writerow(['URL', 'Snippet'])\n",
    "    for i in articles['response']['docs']:\n",
    "        dic = {}\n",
    "        dic['id'] = i['_id']\n",
    "        dic['headline'] = i['headline']['main'].encode(\"utf8\")\n",
    "        headline = i['headline']['main'].encode(\"utf8\")\n",
    "        if i['snippet'] is not None:\n",
    "            dic['snippet'] = i['snippet'].encode(\"utf8\")\n",
    "            snippet = i['snippet'].encode(\"utf8\")\n",
    "        url = i['web_url']\n",
    "        news.append(dic)\n",
    "        newswriter.writerow([url , snippet,headline])\n",
    "        #print(url)\n",
    "        url_parser(url)\n",
    "    #return(news) "
   ]
  },
  {
   "cell_type": "code",
   "execution_count": 3,
   "metadata": {
    "scrolled": false
   },
   "outputs": [
    {
     "data": {
      "text/plain": [
       "10"
      ]
     },
     "execution_count": 3,
     "metadata": {},
     "output_type": "execute_result"
    }
   ],
   "source": [
    "from nytimesarticle import articleAPI\n",
    "import json\n",
    "api = articleAPI('ba304cfe701640898744692b747e2fdc')\n",
    "import requests\n",
    "#articles = api.search( q = \"Obama\", count = 1)\n",
    "\n",
    "'''url = [\"http://api.nytimes.com/svc/search/v2/articlesearch.json?q=trump+women+accuse&begin_date=20180101&api-key=ba304cfe701640898744692b747e2fdc&page=0\",\n",
    "       \"http://api.nytimes.com/svc/search/v2/articlesearch.json?q=trump+women+accuse&begin_date=20180101&api-key=ba304cfe701640898744692b747e2fdc&page=1\",\n",
    "       \"http://api.nytimes.com/svc/search/v2/articlesearch.json?q=trump+women+accuse&begin_date=20180101&api-key=ba304cfe701640898744692b747e2fdc&page=2\",\n",
    "       \"http://api.nytimes.com/svc/search/v2/articlesearch.json?q=trump+women+accuse&begin_date=20180101&api-key=ba304cfe701640898744692b747e2fdc&page=3\",\n",
    "       \"http://api.nytimes.com/svc/search/v2/articlesearch.json?q=trump+women+accuse&begin_date=20180101&api-key=ba304cfe701640898744692b747e2fdc&page=4\",\n",
    "       \"http://api.nytimes.com/svc/search/v2/articlesearch.json?q=trump+women+accuse&begin_date=20180101&api-key=ba304cfe701640898744692b747e2fdc&page=5\",\n",
    "       \"http://api.nytimes.com/svc/search/v2/articlesearch.json?q=trump+women+accuse&begin_date=20180101&api-key=ba304cfe701640898744692b747e2fdc&page=6\",\n",
    "       \"http://api.nytimes.com/svc/search/v2/articlesearch.json?q=trump+women+accuse&begin_date=20180101&api-key=ba304cfe701640898744692b747e2fdc&page=7\",\n",
    "       \"http://api.nytimes.com/svc/search/v2/articlesearch.json?q=trump+women+accuse&begin_date=20180101&api-key=ba304cfe701640898744692b747e2fdc&page=8\",\n",
    "       \"http://api.nytimes.com/svc/search/v2/articlesearch.json?q=trump+women+accuse&begin_date=20180101&api-key=ba304cfe701640898744692b747e2fdc&page=9\"]\n",
    "'''\n",
    "\n",
    "'''url = [\"http://api.nytimes.com/svc/search/v2/articlesearch.json?q=cambridge+analytica&begin_date=20180101&api-key=ba304cfe701640898744692b747e2fdc&page=0\",\n",
    "       \"http://api.nytimes.com/svc/search/v2/articlesearch.json?q=cambridge+analytica&begin_date=20180101&api-key=ba304cfe701640898744692b747e2fdc&page=1\",\n",
    "       \"http://api.nytimes.com/svc/search/v2/articlesearch.json?q=cambridge+analytica&begin_date=20180101&api-key=ba304cfe701640898744692b747e2fdc&page=2\",\n",
    "       \"http://api.nytimes.com/svc/search/v2/articlesearch.json?q=cambridge+analytica&begin_date=20180101&api-key=ba304cfe701640898744692b747e2fdc&page=3\",\n",
    "       \"http://api.nytimes.com/svc/search/v2/articlesearch.json?q=cambridge+analytica&begin_date=20180101&api-key=ba304cfe701640898744692b747e2fdc&page=4\",\n",
    "       \"http://api.nytimes.com/svc/search/v2/articlesearch.json?q=cambridge+analytica&begin_date=20180101&api-key=ba304cfe701640898744692b747e2fdc&page=5\",\n",
    "       \"http://api.nytimes.com/svc/search/v2/articlesearch.json?q=cambridge+analytica&begin_date=20180101&api-key=ba304cfe701640898744692b747e2fdc&page=6\",\n",
    "       \"http://api.nytimes.com/svc/search/v2/articlesearch.json?q=cambridge+analytica&begin_date=20180101&api-key=ba304cfe701640898744692b747e2fdc&page=7\",\n",
    "       \"http://api.nytimes.com/svc/search/v2/articlesearch.json?q=cambridge+analytica&begin_date=20180101&api-key=ba304cfe701640898744692b747e2fdc&page=8\",\n",
    "       \"http://api.nytimes.com/svc/search/v2/articlesearch.json?q=cambridge+analytica&begin_date=20180101&api-key=ba304cfe701640898744692b747e2fdc&page=9\"]\n",
    "'''\n",
    "\n",
    "url = [\"http://api.nytimes.com/svc/search/v2/articlesearch.json?q=zuckerberg&begin_date=20180101&api-key=ba304cfe701640898744692b747e2fdc&page=0\",\n",
    "       \"http://api.nytimes.com/svc/search/v2/articlesearch.json?q=zuckerberg&begin_date=20180101&api-key=ba304cfe701640898744692b747e2fdc&page=1\",\n",
    "       \"http://api.nytimes.com/svc/search/v2/articlesearch.json?q=zuckerberg&begin_date=20180101&api-key=ba304cfe701640898744692b747e2fdc&page=2\",\n",
    "       \"http://api.nytimes.com/svc/search/v2/articlesearch.json?q=zuckerberg&begin_date=20180101&api-key=ba304cfe701640898744692b747e2fdc&page=3\",\n",
    "       \"http://api.nytimes.com/svc/search/v2/articlesearch.json?q=zuckerberg&begin_date=20180101&api-key=ba304cfe701640898744692b747e2fdc&page=4\",\n",
    "       \"http://api.nytimes.com/svc/search/v2/articlesearch.json?q=zuckerberg&begin_date=20180101&api-key=ba304cfe701640898744692b747e2fdc&page=5\",\n",
    "       \"http://api.nytimes.com/svc/search/v2/articlesearch.json?q=zuckerberg&begin_date=20180101&api-key=ba304cfe701640898744692b747e2fdc&page=6\",\n",
    "       \"http://api.nytimes.com/svc/search/v2/articlesearch.json?q=zuckerberg&begin_date=20180101&api-key=ba304cfe701640898744692b747e2fdc&page=7\",\n",
    "       \"http://api.nytimes.com/svc/search/v2/articlesearch.json?q=zuckerberg&begin_date=20180101&api-key=ba304cfe701640898744692b747e2fdc&page=8\",\n",
    "       \"http://api.nytimes.com/svc/search/v2/articlesearch.json?q=zuckerberg&begin_date=20180101&api-key=ba304cfe701640898744692b747e2fdc&page=9\"]\n",
    "\n",
    "for u in url:\n",
    "    r = requests.get(u)\n",
    "    new = json.loads(r.text)\n",
    "    data = r.json()\n",
    "    json_string = json.dumps(data)\n",
    "    tofile = json.loads(json_string)\n",
    "    with open('ny.json', \"w\") as f:\n",
    "        json.dump(tofile,f)\n",
    "    parse_articles(data)\n",
    "\n",
    "\n",
    "len(data[\"response\"][\"docs\"])\n",
    "\n"
   ]
  },
  {
   "cell_type": "markdown",
   "metadata": {
    "collapsed": true
   },
   "source": [
    "#Obtained text files for 3 trending topics from NYTimes Articles from the above code."
   ]
  }
 ],
 "metadata": {
  "kernelspec": {
   "display_name": "Python 3",
   "language": "python",
   "name": "python3"
  },
  "language_info": {
   "codemirror_mode": {
    "name": "ipython",
    "version": 3
   },
   "file_extension": ".py",
   "mimetype": "text/x-python",
   "name": "python",
   "nbconvert_exporter": "python",
   "pygments_lexer": "ipython3",
   "version": "3.6.3"
  }
 },
 "nbformat": 4,
 "nbformat_minor": 2
}
