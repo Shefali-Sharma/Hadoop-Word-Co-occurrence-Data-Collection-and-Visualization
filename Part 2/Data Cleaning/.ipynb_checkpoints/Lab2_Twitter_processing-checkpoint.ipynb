{
 "cells": [
  {
   "cell_type": "markdown",
   "metadata": {},
   "source": [
    "Lab 2: \n",
    "#Priya Murthy - 50248887\n",
    "#Shefali Sharma - 50247677"
   ]
  },
  {
   "cell_type": "code",
   "execution_count": 32,
   "metadata": {
    "collapsed": true
   },
   "outputs": [],
   "source": [
    "import csv\n",
    "import re\n",
    "tweets = []\n",
    "from nltk.corpus import stopwords\n",
    "import nltk\n",
    "words = set(nltk.corpus.words.words())\n",
    " \n",
    "'''with open('CambridgeAnalytica_tweets.csv', encoding=\"utf-8\") as csvDataFile:\n",
    "    csvReader = csv.reader(csvDataFile)\n",
    "    for row in csvReader:\n",
    "        print(row[0])'''\n",
    "        \n",
    "f = open('cambridge_analytica_tweets.txt', \"r\")\n",
    "#f = open('zuckerberg_tweets.txt', \"r\")\n",
    "#f = open('trump_tweets.txt', \"r\")\n",
    "\n",
    "lines = f.readlines()\n",
    "\n",
    "tweets = ''\n",
    "\n",
    "for line in lines:\n",
    "    tweets += '\\n' +' '.join(w for w in nltk.wordpunct_tokenize(line) if w.lower() in words or not w.isalpha())\n",
    "\n",
    "cambridge_tweets = ''\n",
    "for line in tweets:\n",
    "    cambridge_tweets += re.sub('[^a-zA-Z\\n]', ' ', str(line))\n",
    "    \n",
    "cambridge_tweets = cambridge_tweets.lower()\n",
    "stop_words = set(stopwords.words('english'))\n",
    "words = cambridge_tweets.split()\n",
    "for r in words:\n",
    "    if not r in stop_words:\n",
    "        appendFile = open('cambridge_tweets_processed.txt','a')\n",
    "        #appendFile = open('zuckerberg_tweets_processed.txt','a')\n",
    "        #appendFile = open('trump_tweets_processed.txt','a')\n",
    "        appendFile.write(\" \"+r)\n",
    "        appendFile.close()\n",
    "    \n"
   ]
  }
 ],
 "metadata": {
  "kernelspec": {
   "display_name": "Python 3",
   "language": "python",
   "name": "python3"
  },
  "language_info": {
   "codemirror_mode": {
    "name": "ipython",
    "version": 3
   },
   "file_extension": ".py",
   "mimetype": "text/x-python",
   "name": "python",
   "nbconvert_exporter": "python",
   "pygments_lexer": "ipython3",
   "version": "3.6.3"
  }
 },
 "nbformat": 4,
 "nbformat_minor": 2
}
